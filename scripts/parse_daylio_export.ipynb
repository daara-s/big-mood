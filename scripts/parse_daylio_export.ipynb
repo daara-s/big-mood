{
 "cells": [
  {
   "cell_type": "code",
   "execution_count": null,
   "id": "a65285c2",
   "metadata": {},
   "outputs": [],
   "source": [
    "import pandas as pd\n"
   ]
  },
  {
   "cell_type": "code",
   "execution_count": null,
   "id": "84a5db0e",
   "metadata": {},
   "outputs": [],
   "source": [
    "df = pd.read_csv(\"../big_mood/daylio_export_2023_06_21.csv\")\n",
    "df.head()"
   ]
  },
  {
   "cell_type": "code",
   "execution_count": null,
   "id": "e0b2f396",
   "metadata": {},
   "outputs": [],
   "source": [
    "df.info()"
   ]
  },
  {
   "cell_type": "code",
   "execution_count": null,
   "id": "3b75c6cc",
   "metadata": {},
   "outputs": [],
   "source": [
    "df[\"full_date\"] = pd.to_datetime(df[\"full_date\"])"
   ]
  },
  {
   "cell_type": "code",
   "execution_count": null,
   "id": "b76f7012",
   "metadata": {},
   "outputs": [],
   "source": [
    "df.mood.unique()"
   ]
  },
  {
   "cell_type": "code",
   "execution_count": null,
   "id": "d36e379a",
   "metadata": {},
   "outputs": [],
   "source": [
    "df[\"mood\"] = (\n",
    "    df[\"mood\"]\n",
    "    .str.lower()\n",
    "    .str.rstrip()\n",
    "    .str.replace(' ', '_')\n",
    ")"
   ]
  },
  {
   "cell_type": "code",
   "execution_count": null,
   "id": "48201b11",
   "metadata": {},
   "outputs": [],
   "source": [
    "df.mood.unique()"
   ]
  },
  {
   "cell_type": "code",
   "execution_count": null,
   "id": "a82cc3f1",
   "metadata": {},
   "outputs": [],
   "source": [
    "mood_dict = {\n",
    "    \"shit\": 1,\n",
    "    \"low/meh\": 2,\n",
    "    \"low_and_ok\": 2,\n",
    "    \"i_don't_know\": 2,\n",
    "    \"challenging_day\": 2,\n",
    "    \"sad\": 2,\n",
    "    \"alright\": 3,\n",
    "    \"centred\": 3,\n",
    "    \"chill_but_eh\": 3,\n",
    "    \"good\": 4,\n",
    "    \"great\": 5,\n",
    "}\n",
    "\n",
    "df[\"mood_val\"] = df[\"mood\"].map(mood_dict)"
   ]
  },
  {
   "cell_type": "code",
   "execution_count": null,
   "id": "48319a97",
   "metadata": {},
   "outputs": [],
   "source": [
    "df.head()"
   ]
  },
  {
   "cell_type": "code",
   "execution_count": null,
   "id": "62de4153",
   "metadata": {},
   "outputs": [],
   "source": [
    "df[\"activities\"] = df[\"activities\"].str.split('|')"
   ]
  },
  {
   "cell_type": "code",
   "execution_count": null,
   "id": "f89d30b6",
   "metadata": {},
   "outputs": [],
   "source": [
    "import plotly.express as px\n",
    "import numpy as np"
   ]
  },
  {
   "cell_type": "code",
   "execution_count": null,
   "id": "bd614c10",
   "metadata": {},
   "outputs": [],
   "source": [
    "df[\"mood_val_day_mean\"] = df.groupby(df[\"full_date\"].dt.date)[\"mood_val\"].transform(np.mean)"
   ]
  },
  {
   "cell_type": "code",
   "execution_count": null,
   "id": "56017682",
   "metadata": {},
   "outputs": [],
   "source": [
    "df.to_csv(\"daylio_cleaned.csv\")"
   ]
  },
  {
   "cell_type": "code",
   "execution_count": null,
   "id": "222b9be1",
   "metadata": {},
   "outputs": [],
   "source": [
    "df.full_date.dt.month.unique()"
   ]
  },
  {
   "cell_type": "code",
   "execution_count": null,
   "id": "ab8daf3e",
   "metadata": {},
   "outputs": [],
   "source": [
    "df.head()"
   ]
  },
  {
   "cell_type": "code",
   "execution_count": null,
   "id": "d97f929d",
   "metadata": {},
   "outputs": [],
   "source": [
    "year = 2023\n",
    "month = 6\n",
    "filtered_df = (df[\n",
    "    (df['full_date'].dt.year == year) \n",
    "    & (df['full_date'].dt.month == month)])\n",
    "\n",
    "fig = px.line(filtered_df,\n",
    "              x='full_date',\n",
    "              y='mood_val_day_mean')\n",
    "fig.update_layout(yaxis_range=[1,5.5])\n",
    "fig.show()"
   ]
  },
  {
   "cell_type": "code",
   "execution_count": null,
   "id": "6bb830f3",
   "metadata": {},
   "outputs": [],
   "source": [
    "filtered_df.groupby(filtered_df.weekday)[\"mood_val_day_mean\"].mean()"
   ]
  },
  {
   "cell_type": "code",
   "execution_count": null,
   "id": "51bd9e83",
   "metadata": {},
   "outputs": [],
   "source": [
    "df.groupby([df[\"full_date\"].dt.year, df[\"full_date\"].dt.month])[\"mood_val\"].mean()"
   ]
  },
  {
   "cell_type": "code",
   "execution_count": null,
   "id": "f8bf599e",
   "metadata": {},
   "outputs": [],
   "source": [
    "df[\"mood_val_month_mean\"] = df.groupby([df[\"full_date\"].dt.year, df[\"full_date\"].dt.month])[\"mood_val\"].transform(np.mean)"
   ]
  },
  {
   "cell_type": "code",
   "execution_count": null,
   "id": "685db537",
   "metadata": {
    "scrolled": false
   },
   "outputs": [],
   "source": [
    "df.head()"
   ]
  },
  {
   "cell_type": "code",
   "execution_count": null,
   "id": "bce9d474",
   "metadata": {},
   "outputs": [],
   "source": [
    "df_x = df.set_index(\"full_date\")"
   ]
  },
  {
   "cell_type": "code",
   "execution_count": null,
   "id": "c0af64ce",
   "metadata": {},
   "outputs": [],
   "source": [
    "df_x.resample(\"M\")[\"mood_val\"].mean().reset_index()"
   ]
  },
  {
   "cell_type": "code",
   "execution_count": null,
   "id": "899d7a6f",
   "metadata": {},
   "outputs": [],
   "source": [
    "\n",
    "fig = px.line(df.set_index(\"full_date\").resample(\"M\")[\"mood_val\"].mean().reset_index(),\n",
    "              x='full_date',\n",
    "              y='mood_val')\n",
    "fig.update_layout(xaxis=dict(tickformat=\"%Y-%m\"))\n",
    "fig.update_layout(yaxis_range=[1,5.5])\n",
    "fig.show()"
   ]
  }
 ],
 "metadata": {
  "kernelspec": {
   "display_name": "big_mood",
   "language": "python",
   "name": "big_mood"
  },
  "language_info": {
   "codemirror_mode": {
    "name": "ipython",
    "version": 3
   },
   "file_extension": ".py",
   "mimetype": "text/x-python",
   "name": "python",
   "nbconvert_exporter": "python",
   "pygments_lexer": "ipython3",
   "version": "3.10.9"
  }
 },
 "nbformat": 4,
 "nbformat_minor": 5
}
